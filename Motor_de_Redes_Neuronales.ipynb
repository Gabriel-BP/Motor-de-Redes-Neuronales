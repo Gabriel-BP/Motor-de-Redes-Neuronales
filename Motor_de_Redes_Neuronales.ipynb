{
  "nbformat": 4,
  "nbformat_minor": 0,
  "metadata": {
    "colab": {
      "provenance": [],
      "mount_file_id": "1RD2VyQxyZ01LotOkDwvO4IvAaptnAMHe",
      "authorship_tag": "ABX9TyPbmEoNo4n2wPDGybTfG1YR",
      "include_colab_link": true
    },
    "kernelspec": {
      "name": "python3",
      "display_name": "Python 3"
    },
    "language_info": {
      "name": "python"
    }
  },
  "cells": [
    {
      "cell_type": "markdown",
      "metadata": {
        "id": "view-in-github",
        "colab_type": "text"
      },
      "source": [
        "<a href=\"https://colab.research.google.com/github/Gabriel-BP/Motor-de-Redes-Neuronales/blob/main/Motor_de_Redes_Neuronales.ipynb\" target=\"_parent\"><img src=\"https://colab.research.google.com/assets/colab-badge.svg\" alt=\"Open In Colab\"/></a>"
      ]
    },
    {
      "cell_type": "markdown",
      "source": [
        "Importamos las librerías necesarias"
      ],
      "metadata": {
        "id": "52eRjM6Gbyy9"
      }
    },
    {
      "cell_type": "code",
      "execution_count": 2,
      "metadata": {
        "id": "jE48KLMTY5nI"
      },
      "outputs": [],
      "source": [
        "import numpy as np"
      ]
    },
    {
      "cell_type": "markdown",
      "source": [
        "Definimos funciones de activación y sus derivadas"
      ],
      "metadata": {
        "id": "6il0qU1Lb4J_"
      }
    },
    {
      "cell_type": "code",
      "source": [
        "# Función Sigmoide\n",
        "def sigmoid(x):\n",
        "    return 1 / (1 + np.exp(-x))\n",
        "\n",
        "# Derivada de Sigmoide\n",
        "def sigmoid_derivative(x):\n",
        "    return x * (1 - x)\n",
        "\n",
        "# ReLU\n",
        "def relu(x):\n",
        "    return np.maximum(0, x)\n",
        "\n",
        "# Derivada de ReLU\n",
        "def relu_derivative(x):\n",
        "    return np.where(x > 0, 1, 0)"
      ],
      "metadata": {
        "id": "I3CS6Ki1btXh"
      },
      "execution_count": 1,
      "outputs": []
    },
    {
      "cell_type": "markdown",
      "source": [
        "Defininos una clase para cada capa de la red"
      ],
      "metadata": {
        "id": "SPqsq_G8cGxB"
      }
    },
    {
      "cell_type": "code",
      "source": [
        "class Layer:\n",
        "    def __init__(self, input_size, output_size, activation_function, activation_derivative):\n",
        "        # Inicializa los pesos y sesgos aleatoriamente\n",
        "        self.weights = np.random.rand(input_size, output_size) - 0.5\n",
        "        self.biases = np.random.rand(1, output_size) - 0.5\n",
        "        self.activation_function = activation_function\n",
        "        self.activation_derivative = activation_derivative\n",
        "\n",
        "    # Propagación hacia adelante\n",
        "    def forward(self, inputs):\n",
        "        self.inputs = inputs\n",
        "        self.z = np.dot(inputs, self.weights) + self.biases\n",
        "        self.a = self.activation_function(self.z)\n",
        "        return self.a\n",
        "\n",
        "    # Propagación hacia atrás (backpropagation)\n",
        "    def backward(self, output_error, learning_rate):\n",
        "        # Calcula el gradiente respecto a la salida (error * derivada de activación)\n",
        "        d_activation = self.activation_derivative(self.a)\n",
        "        self.delta = output_error * d_activation\n",
        "        input_error = np.dot(self.delta, self.weights.T)\n",
        "\n",
        "        # Gradientes para pesos y sesgos\n",
        "        weights_gradient = np.dot(self.inputs.T, self.delta)\n",
        "        self.weights -= learning_rate * weights_gradient\n",
        "        self.biases -= learning_rate * np.sum(self.delta, axis=0, keepdims=True)\n",
        "        return input_error\n"
      ],
      "metadata": {
        "id": "UUohsACkb__Y"
      },
      "execution_count": 3,
      "outputs": []
    },
    {
      "cell_type": "markdown",
      "source": [
        "Definimos la clase para el motor de la red neuronal"
      ],
      "metadata": {
        "id": "CatiVbLecOGS"
      }
    },
    {
      "cell_type": "code",
      "source": [
        "class NeuralNetwork:\n",
        "    def __init__(self):\n",
        "        self.layers = []\n",
        "\n",
        "    # Agrega una capa a la red\n",
        "    def add_layer(self, layer):\n",
        "        self.layers.append(layer)\n",
        "\n",
        "    # Propagación hacia adelante en toda la red\n",
        "    def forward(self, X):\n",
        "        output = X\n",
        "        for layer in self.layers:\n",
        "            output = layer.forward(output)\n",
        "        return output\n",
        "\n",
        "    # Entrenamiento con retropropagación\n",
        "    def train(self, X, y, epochs, learning_rate):\n",
        "        for epoch in range(epochs):\n",
        "            # Propagación hacia adelante\n",
        "            output = self.forward(X)\n",
        "\n",
        "            # Calcula el error\n",
        "            error = y - output\n",
        "            for layer in reversed(self.layers):\n",
        "                error = layer.backward(error, learning_rate)\n",
        "\n",
        "            # Imprime el error cada 100 épocas\n",
        "            if epoch % 100 == 0:\n",
        "                print(f\"Error en epoch {epoch}: {np.mean(np.abs(error))}\")\n"
      ],
      "metadata": {
        "id": "WZ66Sa2GcSTD"
      },
      "execution_count": 4,
      "outputs": []
    },
    {
      "cell_type": "markdown",
      "source": [
        "Entrenamos el motor de redes neuronales"
      ],
      "metadata": {
        "id": "bDrf8uwpceP6"
      }
    },
    {
      "cell_type": "code",
      "source": [
        "# Datos de entrada (ejemplo)\n",
        "X = np.array([[0, 0], [0, 1], [1, 0], [1, 1]])\n",
        "y = np.array([[0], [1], [1], [0]])  # XOR\n",
        "\n",
        "# Configuración de la red\n",
        "nn = NeuralNetwork()\n",
        "nn.add_layer(Layer(input_size=2, output_size=3, activation_function=sigmoid, activation_derivative=sigmoid_derivative))\n",
        "nn.add_layer(Layer(input_size=3, output_size=1, activation_function=sigmoid, activation_derivative=sigmoid_derivative))\n",
        "\n",
        "# Entrenamiento\n",
        "nn.train(X, y, epochs=1000, learning_rate=0.1)\n"
      ],
      "metadata": {
        "colab": {
          "base_uri": "https://localhost:8080/"
        },
        "id": "NaQbLQA4cd4_",
        "outputId": "ebb76914-e567-44f1-c797-60e50bc5fc7c"
      },
      "execution_count": 5,
      "outputs": [
        {
          "output_type": "stream",
          "name": "stdout",
          "text": [
            "Error en epoch 0: 0.0015614918652436865\n",
            "Error en epoch 100: 0.0015178447289049017\n",
            "Error en epoch 200: 0.0006098255471744007\n",
            "Error en epoch 300: 0.0004702998221954755\n",
            "Error en epoch 400: 0.0003821124745719436\n",
            "Error en epoch 500: 0.0003159262231544662\n",
            "Error en epoch 600: 0.00026971647610919995\n",
            "Error en epoch 700: 0.0002360042382469057\n",
            "Error en epoch 800: 0.00021033094320060792\n",
            "Error en epoch 900: 0.00019009364305948924\n"
          ]
        }
      ]
    },
    {
      "cell_type": "markdown",
      "source": [
        "Preprocesamiento de imágenes"
      ],
      "metadata": {
        "id": "K0bs4YIBf4X-"
      }
    },
    {
      "cell_type": "code",
      "source": [
        "from PIL import Image\n",
        "import numpy as np\n",
        "import os\n",
        "\n",
        "# Ruta a tus imágenes\n",
        "cat_folder = \"ruta/a/imagenes/gatos\"\n",
        "dog_folder = \"ruta/a/imagenes/perros\"\n",
        "\n",
        "# Tamaño al que reducir las imágenes (por ejemplo, 64x64)\n",
        "image_size = (64, 64)\n",
        "\n",
        "def load_images(folder, label):\n",
        "    images = []\n",
        "    labels = []\n",
        "    for filename in os.listdir(folder):\n",
        "        img_path = os.path.join(folder, filename)\n",
        "        img = Image.open(img_path).convert(\"L\")  # Escala de grises\n",
        "        img = img.resize(image_size)\n",
        "        img_array = np.array(img).flatten() / 255.0  # Normaliza los valores a [0, 1]\n",
        "        images.append(img_array)\n",
        "        labels.append(label)\n",
        "    return np.array(images), np.array(labels)\n",
        "\n",
        "# Cargar las imágenes de perros y gatos\n",
        "cat_images, cat_labels = load_images(cat_folder, label=0)  # 0 para gatos\n",
        "dog_images, dog_labels = load_images(dog_folder, label=1)  # 1 para perros\n",
        "\n",
        "# Combina y mezcla los datos\n",
        "X = np.vstack((cat_images, dog_images))\n",
        "y = np.hstack((cat_labels, dog_labels))\n"
      ],
      "metadata": {
        "id": "_sGUwYdOeGzW"
      },
      "execution_count": null,
      "outputs": []
    },
    {
      "cell_type": "markdown",
      "source": [
        "Configuración del motor de la red neuronal"
      ],
      "metadata": {
        "id": "2GjBthyAf6W_"
      }
    },
    {
      "cell_type": "code",
      "source": [
        "# Inicializar la red\n",
        "nn = NeuralNetwork()\n",
        "nn.add_layer(Layer(input_size=4096, output_size=128, activation_function=sigmoid, activation_derivative=sigmoid_derivative))\n",
        "nn.add_layer(Layer(input_size=128, output_size=64, activation_function=sigmoid, activation_derivative=sigmoid_derivative))\n",
        "nn.add_layer(Layer(input_size=64, output_size=1, activation_function=sigmoid, activation_derivative=sigmoid_derivative))  # 1 salida para clasificación binaria\n"
      ],
      "metadata": {
        "id": "mN3bAeUOf9ay"
      },
      "execution_count": null,
      "outputs": []
    },
    {
      "cell_type": "markdown",
      "source": [
        "Entrenamiento del modelo"
      ],
      "metadata": {
        "id": "PudldxJZf-xH"
      }
    },
    {
      "cell_type": "code",
      "source": [
        "# Entrenamiento\n",
        "nn.train(X, y.reshape(-1, 1), epochs=1000, learning_rate=0.1)"
      ],
      "metadata": {
        "id": "b2X1JDFHgBiu"
      },
      "execution_count": null,
      "outputs": []
    },
    {
      "cell_type": "markdown",
      "source": [
        "Prueba del modelo"
      ],
      "metadata": {
        "id": "BYeiBs6_gDNs"
      }
    },
    {
      "cell_type": "code",
      "source": [
        "# Predicción en una imagen\n",
        "def predict_image(model, image_path):\n",
        "    img = Image.open(image_path).convert(\"L\").resize(image_size)\n",
        "    img_array = np.array(img).flatten() / 255.0\n",
        "    prediction = model.forward(img_array.reshape(1, -1))\n",
        "    return \"Perro\" if prediction > 0.5 else \"Gato\"\n",
        "\n",
        "# Ejemplo de predicción\n",
        "print(predict_image(nn, \"ruta/a/imagen/nueva.jpg\"))\n"
      ],
      "metadata": {
        "id": "IQAfczMmgGJ6"
      },
      "execution_count": null,
      "outputs": []
    }
  ]
}